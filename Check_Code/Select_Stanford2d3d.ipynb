{
 "cells": [
  {
   "cell_type": "code",
   "execution_count": 5,
   "id": "04f31042-97e7-45ee-aec4-bc8842b3588c",
   "metadata": {},
   "outputs": [],
   "source": [
    "import os\n",
    "import shutil"
   ]
  },
  {
   "cell_type": "code",
   "execution_count": 6,
   "id": "87a5b0e6-63ff-4dd7-8e50-095d11c7b484",
   "metadata": {},
   "outputs": [],
   "source": [
    "pano_dir = \"../../../PanoData/area_3/area_3/pano/rgb\"\n",
    "xyz_dir = \"../../../PanoData/area_3/area_3/pano/global_xyz\"\n",
    "instance_dir = \"../../../PanoData/area_3/area_3/pano/semantic\"\n",
    "depth_dir = \"../../../PanoData/area_3/area_3/pano/depth\"\n",
    "semantic_label_path = \"../../../PanoCode/2D-3D-Semantics/assets/semantic_labels.json\""
   ]
  },
  {
   "cell_type": "code",
   "execution_count": 9,
   "id": "7a6976d3-3981-413a-8c7c-27ed4b607d8d",
   "metadata": {},
   "outputs": [],
   "source": [
    "selected_path = \"../../../PanoData/selected_area3\"\n",
    "shutil.copy(semantic_label_path, selected_path)\n",
    "# os.mkdir(selected_path)\n",
    "s_pano_dir = os.path.join(selected_path, 'pano/rgb')\n",
    "os.mkdir(s_pano_dir)\n",
    "s_xyz_dir = os.path.join(selected_path, 'pano/global_xyz')\n",
    "os.mkdir(s_xyz_dir)\n",
    "s_instance_dir = os.path.join(selected_path, 'pano/semantic')\n",
    "os.mkdir(s_instance_dir)\n",
    "s_depth_dir = os.path.join(selected_path, 'pano/depth')"
   ]
  },
  {
   "cell_type": "code",
   "execution_count": 10,
   "id": "76758d36-b741-41b5-a6c9-3132a9ebeafe",
   "metadata": {},
   "outputs": [],
   "source": [
    "# 选取一部分图像\n",
    "num = 10\n",
    "pano_name_list = os.listdir(pano_dir)\n",
    "for name in pano_name_list[:10]:\n",
    "    # 复制RGB图像\n",
    "    rgb_path = os.path.join(pano_dir, name)\n",
    "    shutil.copy(rgb_path, s_pano_dir)\n",
    "    # 复制instance\n",
    "    instance_path = os.path.join(instance_dir, name.replace('rgb', 'semantic'))\n",
    "    shutil.copy(instance_path, s_instance_dir)\n",
    "    # 复制xyz\n",
    "    xyz_path = os.path.join(xyz_dir, name.replace('rgb.png', 'global_xyz.exr'))\n",
    "    shutil.copy(xyz_path, s_xyz_dir)\n",
    "    # 复制depth\n",
    "    depth_path = os.path.join(depth_dir, name.replace('rgb.png', 'depth.png'))\n",
    "    shutil.copy(depth_path, s_depth_dir)"
   ]
  }
 ],
 "metadata": {
  "kernelspec": {
   "display_name": "Python 3 (ipykernel)",
   "language": "python",
   "name": "python3"
  },
  "language_info": {
   "codemirror_mode": {
    "name": "ipython",
    "version": 3
   },
   "file_extension": ".py",
   "mimetype": "text/x-python",
   "name": "python",
   "nbconvert_exporter": "python",
   "pygments_lexer": "ipython3",
   "version": "3.10.16"
  }
 },
 "nbformat": 4,
 "nbformat_minor": 5
}
